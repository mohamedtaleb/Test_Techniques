{
  "nbformat": 4,
  "nbformat_minor": 0,
  "metadata": {
    "accelerator": "GPU",
    "colab": {
      "name": "Test_Technique_ML.ipynb",
      "provenance": [],
      "collapsed_sections": []
    },
    "kernelspec": {
      "display_name": "Python 3",
      "language": "python",
      "name": "python3"
    },
    "language_info": {
      "codemirror_mode": {
        "name": "ipython",
        "version": 3
      },
      "file_extension": ".py",
      "mimetype": "text/x-python",
      "name": "python",
      "nbconvert_exporter": "python",
      "pygments_lexer": "ipython3",
      "version": "3.7.2"
    }
  },
  "cells": [
    {
      "cell_type": "markdown",
      "metadata": {
        "id": "CXP-eWJpVfeR"
      },
      "source": [
        "# Part I : Quel(le) data scientist êtes-vous ?\n",
        "## Contexte de l’analyse\n",
        "\n",
        "Elu métier le plus sexy par la Harvard Business Review en octobre 2012, le data scientist représente un profil rare qui exige de nombreuses compétences.\n",
        "\n",
        "A partir d'un dataset Aquila, vous réaliserez :\n",
        "- un clustering non supervisé afin d'identifier 2 groupes de profils techniques distinctes\n",
        "- une prédiction des profils dont le métier n'est pas labellisé\n",
        "\n",
        "\n",
        "## Données\n",
        "data.csv contient 6 variables : \n",
        "    - 'Entreprise' correspond à une liste d'entreprises fictive\n",
        "    - 'Metier' correspond au métier parmi data scientist, lead data scientist, data engineer et data architecte\n",
        "    - 'Technologies' correspond aux compétences maîtrisées par le profil\n",
        "    - 'Diplome' correspond à son niveau scolaire (Bac, Master, PhD,...)\n",
        "    - 'Experience' correspond au nombre d'années d'expériences\n",
        "    - 'Ville' correspond au lieu de travail\n",
        "    \n",
        "\n",
        "\n",
        "## Répondez aux questions \n",
        "\n",
        "Bonne chance!"
      ]
    },
    {
      "cell_type": "code",
      "metadata": {
        "id": "Meuy-7MSVfeW"
      },
      "source": [
        "# Import des libraries classique (numpy, pandas, ...)\n",
        "import pandas as pd\n",
        "import numpy as np\n",
        "import re\n",
        "import sklearn as sk\n",
        "import seaborn as sb\n",
        "from matplotlib import pyplot as plt\n",
        "plt.style.use('ggplot')\n",
        "\n",
        "\n",
        "from sklearn import preprocessing\n",
        "from sklearn.preprocessing import OneHotEncoder\n",
        "from sklearn.compose import make_column_transformer\n",
        "from sklearn.pipeline import make_pipeline\n",
        "from sklearn.preprocessing import StandardScaler\n",
        "from sklearn.impute import SimpleImputer\n",
        "from sklearn.model_selection import GridSearchCV\n",
        "from sklearn.model_selection import train_test_split\n",
        "from sklearn.cluster import KMeans\n",
        "from sklearn.neighbors import KNeighborsClassifier\n",
        "from sklearn.linear_model import SGDClassifier\n",
        "from sklearn.ensemble import RandomForestClassifier\n",
        "from sklearn.tree import DecisionTreeClassifier\n",
        "from sklearn.ensemble import VotingClassifier\n",
        "from sklearn.metrics import classification_report, confusion_matrix"
      ],
      "execution_count": 75,
      "outputs": []
    },
    {
      "cell_type": "markdown",
      "metadata": {
        "id": "wtDTpJN_VfeX"
      },
      "source": [
        "### 1) Importer le tableau de données dans un dataframe "
      ]
    },
    {
      "cell_type": "code",
      "metadata": {
        "colab": {
          "base_uri": "https://localhost:8080/",
          "height": 195
        },
        "id": "3FP4J3fPVfeX",
        "outputId": "59205d4e-3165-4a3b-b486-2ec86b86c5cb"
      },
      "source": [
        "# Importer les données dans un dataframe\n",
        "df = pd.read_csv('/content/data/data.csv',sep=\",\",decimal=\",\")\n",
        "\n",
        "# Afficher un échantillon aléatoire d'éléments \n",
        "df.sample(5)"
      ],
      "execution_count": 76,
      "outputs": [
        {
          "output_type": "execute_result",
          "data": {
            "text/html": [
              "<div>\n",
              "<style scoped>\n",
              "    .dataframe tbody tr th:only-of-type {\n",
              "        vertical-align: middle;\n",
              "    }\n",
              "\n",
              "    .dataframe tbody tr th {\n",
              "        vertical-align: top;\n",
              "    }\n",
              "\n",
              "    .dataframe thead th {\n",
              "        text-align: right;\n",
              "    }\n",
              "</style>\n",
              "<table border=\"1\" class=\"dataframe\">\n",
              "  <thead>\n",
              "    <tr style=\"text-align: right;\">\n",
              "      <th></th>\n",
              "      <th>Entreprise</th>\n",
              "      <th>Metier</th>\n",
              "      <th>Technologies</th>\n",
              "      <th>Diplome</th>\n",
              "      <th>Experience</th>\n",
              "      <th>Ville</th>\n",
              "    </tr>\n",
              "  </thead>\n",
              "  <tbody>\n",
              "    <tr>\n",
              "      <th>296</th>\n",
              "      <td>Burns &amp; McDonnell</td>\n",
              "      <td>Data scientist</td>\n",
              "      <td>R/machine learning/Excel/VBA</td>\n",
              "      <td>Phd</td>\n",
              "      <td>0.0</td>\n",
              "      <td>Paris</td>\n",
              "    </tr>\n",
              "    <tr>\n",
              "      <th>9123</th>\n",
              "      <td>TRC</td>\n",
              "      <td>Data scientist</td>\n",
              "      <td>C/C++/Java/Python</td>\n",
              "      <td>Master</td>\n",
              "      <td>3.5</td>\n",
              "      <td>Paris</td>\n",
              "    </tr>\n",
              "    <tr>\n",
              "      <th>9505</th>\n",
              "      <td>Northwestern University</td>\n",
              "      <td>Data architecte</td>\n",
              "      <td>Python/Spark/Hive/Hadoop</td>\n",
              "      <td>No diploma</td>\n",
              "      <td>2.5</td>\n",
              "      <td>Lyon</td>\n",
              "    </tr>\n",
              "    <tr>\n",
              "      <th>3490</th>\n",
              "      <td>Brigham &amp; Women's Hospital(BWH)</td>\n",
              "      <td>Data scientist</td>\n",
              "      <td>Excel/VBA/R</td>\n",
              "      <td>Master</td>\n",
              "      <td>2.0</td>\n",
              "      <td>Toulouse</td>\n",
              "    </tr>\n",
              "    <tr>\n",
              "      <th>1342</th>\n",
              "      <td>Nuveen</td>\n",
              "      <td>Data scientist</td>\n",
              "      <td>Excel/VBA/R/Python/PySpark</td>\n",
              "      <td>Master</td>\n",
              "      <td>3.5</td>\n",
              "      <td>Marseille</td>\n",
              "    </tr>\n",
              "  </tbody>\n",
              "</table>\n",
              "</div>"
            ],
            "text/plain": [
              "                           Entreprise           Metier  ... Experience      Ville\n",
              "296                 Burns & McDonnell   Data scientist  ...        0.0      Paris\n",
              "9123                              TRC   Data scientist  ...        3.5      Paris\n",
              "9505          Northwestern University  Data architecte  ...        2.5       Lyon\n",
              "3490  Brigham & Women's Hospital(BWH)   Data scientist  ...        2.0   Toulouse\n",
              "1342                           Nuveen   Data scientist  ...        3.5  Marseille\n",
              "\n",
              "[5 rows x 6 columns]"
            ]
          },
          "metadata": {
            "tags": []
          },
          "execution_count": 76
        }
      ]
    },
    {
      "cell_type": "markdown",
      "metadata": {
        "id": "5oXKvQl1VfeX"
      },
      "source": [
        "### 2) Combien y a t-il d'observations dans ce dataset? Y a t-il des valeurs manquantes? "
      ]
    },
    {
      "cell_type": "markdown",
      "metadata": {
        "id": "W0H2VHc_a6_1"
      },
      "source": [
        "###   2.1 Récupérer le nombre d'observations dans ce dataset"
      ]
    },
    {
      "cell_type": "code",
      "metadata": {
        "colab": {
          "base_uri": "https://localhost:8080/"
        },
        "id": "peXMFN_IVfeY",
        "outputId": "513e5bb7-447f-40d1-8013-a3e1d60c7e53"
      },
      "source": [
        "print(\"Le nombre total d'obsercations dans ce dataset : {}\".format(df.shape[0]))"
      ],
      "execution_count": 77,
      "outputs": [
        {
          "output_type": "stream",
          "text": [
            "Le nombre total d'obsercations dans ce dataset : 9582\n"
          ],
          "name": "stdout"
        }
      ]
    },
    {
      "cell_type": "markdown",
      "metadata": {
        "id": "LhNdQxcFbRrR"
      },
      "source": [
        "### 2.2 Verifier s'il y a des valeurs manquantes"
      ]
    },
    {
      "cell_type": "code",
      "metadata": {
        "colab": {
          "base_uri": "https://localhost:8080/"
        },
        "id": "3ftsKalh2cMl",
        "outputId": "f4af4cba-dc64-435e-a98d-a48d17aa3060"
      },
      "source": [
        "df.isna().any()"
      ],
      "execution_count": 78,
      "outputs": [
        {
          "output_type": "execute_result",
          "data": {
            "text/plain": [
              "Entreprise       True\n",
              "Metier           True\n",
              "Technologies    False\n",
              "Diplome         False\n",
              "Experience       True\n",
              "Ville           False\n",
              "dtype: bool"
            ]
          },
          "metadata": {
            "tags": []
          },
          "execution_count": 78
        }
      ]
    },
    {
      "cell_type": "markdown",
      "metadata": {
        "id": "-tUmGa3EbdVG"
      },
      "source": [
        "### 2.3 Compter le nombre des valeurs manquantes par variable "
      ]
    },
    {
      "cell_type": "code",
      "metadata": {
        "colab": {
          "base_uri": "https://localhost:8080/"
        },
        "id": "DlR1pOKH2t2b",
        "outputId": "85e739d4-4347-44d2-ea30-2126a53bf045"
      },
      "source": [
        "print(\"le nombre des valeurs manquantes par variable est :\")\n",
        "df.isna().sum()"
      ],
      "execution_count": 79,
      "outputs": [
        {
          "output_type": "stream",
          "text": [
            "le nombre des valeurs manquantes par variable est :\n"
          ],
          "name": "stdout"
        },
        {
          "output_type": "execute_result",
          "data": {
            "text/plain": [
              "Entreprise      17\n",
              "Metier          19\n",
              "Technologies     0\n",
              "Diplome          0\n",
              "Experience      94\n",
              "Ville            0\n",
              "dtype: int64"
            ]
          },
          "metadata": {
            "tags": []
          },
          "execution_count": 79
        }
      ]
    },
    {
      "cell_type": "markdown",
      "metadata": {
        "id": "26fjLjuSVfeY"
      },
      "source": [
        "### 3) Réaliser l'imputation des valeurs manquantes pour la variable \"Experience\" avec : \n",
        "- la valeur médiane pour les data scientists\n",
        "- la valeur moyenne pour les data engineers"
      ]
    },
    {
      "cell_type": "markdown",
      "metadata": {
        "id": "FR2WVtqbb2aP"
      },
      "source": [
        "#### 3.1 Compter le nombre des valeurs manquantes pour la variable \"Experience\""
      ]
    },
    {
      "cell_type": "code",
      "metadata": {
        "colab": {
          "base_uri": "https://localhost:8080/"
        },
        "id": "VN7HFea01Wwq",
        "outputId": "387a0976-e6df-4877-b981-4751cbc5de51"
      },
      "source": [
        "print(\"Le nombre de valeurs manquantes avant l'imputation pour les data scientists :{}\".format(df.loc[df.Metier=='Data scientist','Experience'].isna().sum()))\n",
        "print(\"Le nombre de valeurs manquantes avant l'imputation pour les ddata engineers :{}\".format(df.loc[df.Metier=='Data engineer','Experience'].isna().sum()))"
      ],
      "execution_count": 80,
      "outputs": [
        {
          "output_type": "stream",
          "text": [
            "Le nombre de valeurs manquantes avant l'imputation pour les data scientists :32\n",
            "Le nombre de valeurs manquantes avant l'imputation pour les ddata engineers :20\n"
          ],
          "name": "stdout"
        }
      ]
    },
    {
      "cell_type": "markdown",
      "metadata": {
        "id": "xgtaSkZicD0o"
      },
      "source": [
        "#### 3.2 Réaliser l'imputation des valeurs manquantes"
      ]
    },
    {
      "cell_type": "code",
      "metadata": {
        "id": "JJuMxpkCVfeY"
      },
      "source": [
        "df.loc[df.Metier=='Data scientist','Experience']=df.loc[df.Metier=='Data scientist','Experience'].fillna(df[df['Metier'] == 'Data scientist']['Experience'].dropna().median())\n",
        "df.loc[df.Metier=='Data engineer','Experience']=df.loc[df.Metier=='Data engineer','Experience'].fillna(df[df['Metier'] == 'Data engineer']['Experience'].dropna().mean())"
      ],
      "execution_count": 81,
      "outputs": []
    },
    {
      "cell_type": "markdown",
      "metadata": {
        "id": "qAIYruLMcQMn"
      },
      "source": [
        "#### 3.3 Vérification"
      ]
    },
    {
      "cell_type": "code",
      "metadata": {
        "colab": {
          "base_uri": "https://localhost:8080/"
        },
        "id": "S-JgGB5S7bU8",
        "outputId": "937ed06e-6a0b-41f1-ba3f-2febbd9f2674"
      },
      "source": [
        "print(\"Le nombre de valeurs manquantes après l'imputation pour les data scientists :{}\".format(df.loc[df.Metier=='Data scientist','Experience'].isna().sum()))\n",
        "print(\"Le nombre de valeurs manquantes après l'imputation pour les ddata engineers :{}\".format(df.loc[df.Metier=='Data engineer','Experience'].isna().sum()))"
      ],
      "execution_count": 82,
      "outputs": [
        {
          "output_type": "stream",
          "text": [
            "Le nombre de valeurs manquantes après l'imputation pour les data scientists :0\n",
            "Le nombre de valeurs manquantes après l'imputation pour les ddata engineers :0\n"
          ],
          "name": "stdout"
        }
      ]
    },
    {
      "cell_type": "markdown",
      "metadata": {
        "id": "EMnzWncfVfeZ"
      },
      "source": [
        "### 4) Combien d'années d'expériences ont, en moyenne, chacun des profils : le data scientist, le lead data scientist et le data engineer en moyenne?"
      ]
    },
    {
      "cell_type": "code",
      "metadata": {
        "colab": {
          "base_uri": "https://localhost:8080/"
        },
        "id": "NYmb3De2VfeZ",
        "outputId": "39c338b6-6345-4e3e-8543-f58d9754418c"
      },
      "source": [
        "moy_ds=df.loc[df.Metier=='Data scientist','Experience'].dropna().mean()\n",
        "moy_lds=df.loc[df.Metier=='Lead data scientist','Experience'].dropna().mean()\n",
        "moy_de=df.loc[df.Metier=='Data engineer','Experience'].dropna().mean()\n",
        "print(\"Les années moyennes pour chaque profil : \\n\")\n",
        "print(\"Lead data scientist :\",round(moy_lds,3))\n",
        "print(\"Data enginner       :\",round(moy_de,3))\n",
        "print(\"Data scientist      :\",round(moy_ds,3))\n"
      ],
      "execution_count": 83,
      "outputs": [
        {
          "output_type": "stream",
          "text": [
            "Les années moyennes pour chaque profil : \n",
            "\n",
            "Lead data scientist : 3.965\n",
            "Data enginner       : 2.985\n",
            "Data scientist      : 2.241\n"
          ],
          "name": "stdout"
        }
      ]
    },
    {
      "cell_type": "markdown",
      "metadata": {
        "id": "TE_WKOflVfeZ"
      },
      "source": [
        "### 5) Faire la représentation graphique de votre choix afin de comparer le nombre moyen d'années d'expériences pour chaque métier"
      ]
    },
    {
      "cell_type": "code",
      "metadata": {
        "colab": {
          "base_uri": "https://localhost:8080/",
          "height": 470
        },
        "id": "1N-r1cNnVfea",
        "outputId": "c8f7fce8-aa5f-473b-83d9-5f7d4ba370ff"
      },
      "source": [
        "plt.figure(figsize=(6, 6))\n",
        "plt.style.use('classic')\n",
        "sb.barplot(x=df['Metier'].value_counts().keys().drop('Data architecte'),y=[moy_ds,moy_lds,moy_de])\n",
        "plt.ylabel(\"La valeur moyenne\\n\")\n",
        "plt.title(\"Le nombre moyen d'années d'expériences par métier\\n\")\n",
        "plt.show()"
      ],
      "execution_count": 84,
      "outputs": [
        {
          "output_type": "display_data",
          "data": {
            "image/png": "[encoded data removed]",
            "text/plain": [
              "<Figure size 480x480 with 1 Axes>"
            ]
          },
          "metadata": {
            "tags": []
          }
        }
      ]
    },
    {
      "cell_type": "markdown",
      "metadata": {
        "id": "yV2DEO9QVfea"
      },
      "source": [
        "### 6) Transformer la variable continue 'Experience' en une nouvelle variable catégorielle 'Exp_label' à 4 modalités: débutant, confirmé, avancé et expert\n",
        "- Veuillez expliquer votre choix du règle de transformation.  "
      ]
    },
    {
      "cell_type": "markdown",
      "metadata": {
        "id": "Tc1X9Ma9c207"
      },
      "source": [
        "#### Les valeurs manquantes restantes de la variable Experience doivent être remplies en premier lieu."
      ]
    },
    {
      "cell_type": "code",
      "metadata": {
        "id": "wbopkU6izf0G"
      },
      "source": [
        " moy_da=df.loc[df.Metier=='Data architecte','Experience'].dropna().mean()\n",
        "df.loc[df.Metier=='Lead data scientist','Experience']=df.loc[df.Metier=='Lead data scientist','Experience'].fillna(moy_lds)\n",
        "df.loc[df.Metier=='Data architecte','Experience']=df.loc[df.Metier=='Data architecte','Experience'].fillna(moy_da)"
      ],
      "execution_count": 85,
      "outputs": []
    },
    {
      "cell_type": "markdown",
      "metadata": {
        "id": "L9WGsJZNdNka"
      },
      "source": [
        "#### Transformation de la variable continue \"Expérience\" en une nouvelle variable catégorielle \"Exp_label\". \n",
        "\n"
      ]
    },
    {
      "cell_type": "code",
      "metadata": {
        "colab": {
          "base_uri": "https://localhost:8080/",
          "height": 343
        },
        "id": "MzzgJdxNmZgr",
        "outputId": "20258c0d-c78c-4160-99e3-e549bdd719bc"
      },
      "source": [
        "labels=['Debutant','Confirme','Avance','Expert']\n",
        "df['Exp_label']=pd.cut(df['Experience'],bins=[-1,2,6,10,30], labels=labels)\n",
        "df.tail(10)"
      ],
      "execution_count": 86,
      "outputs": [
        {
          "output_type": "execute_result",
          "data": {
            "text/html": [
              "<div>\n",
              "<style scoped>\n",
              "    .dataframe tbody tr th:only-of-type {\n",
              "        vertical-align: middle;\n",
              "    }\n",
              "\n",
              "    .dataframe tbody tr th {\n",
              "        vertical-align: top;\n",
              "    }\n",
              "\n",
              "    .dataframe thead th {\n",
              "        text-align: right;\n",
              "    }\n",
              "</style>\n",
              "<table border=\"1\" class=\"dataframe\">\n",
              "  <thead>\n",
              "    <tr style=\"text-align: right;\">\n",
              "      <th></th>\n",
              "      <th>Entreprise</th>\n",
              "      <th>Metier</th>\n",
              "      <th>Technologies</th>\n",
              "      <th>Diplome</th>\n",
              "      <th>Experience</th>\n",
              "      <th>Ville</th>\n",
              "      <th>Exp_label</th>\n",
              "    </tr>\n",
              "  </thead>\n",
              "  <tbody>\n",
              "    <tr>\n",
              "      <th>9572</th>\n",
              "      <td>State Street</td>\n",
              "      <td>Data scientist</td>\n",
              "      <td>Excel/VBA/R/Python/PySpark</td>\n",
              "      <td>Master</td>\n",
              "      <td>2.0</td>\n",
              "      <td>Lyon</td>\n",
              "      <td>Debutant</td>\n",
              "    </tr>\n",
              "    <tr>\n",
              "      <th>9573</th>\n",
              "      <td>Jacobs</td>\n",
              "      <td>Data scientist</td>\n",
              "      <td>Matlab/C/C++/Python/Scikit-learn</td>\n",
              "      <td>Phd</td>\n",
              "      <td>2.5</td>\n",
              "      <td>Bordeaux</td>\n",
              "      <td>Confirme</td>\n",
              "    </tr>\n",
              "    <tr>\n",
              "      <th>9574</th>\n",
              "      <td>Georgia Tech Research Institute</td>\n",
              "      <td>Data architecte</td>\n",
              "      <td>MongoDB/SQL/Docker</td>\n",
              "      <td>Master</td>\n",
              "      <td>3.5</td>\n",
              "      <td>Toulouse</td>\n",
              "      <td>Confirme</td>\n",
              "    </tr>\n",
              "    <tr>\n",
              "      <th>9575</th>\n",
              "      <td>Hatch</td>\n",
              "      <td>Data engineer</td>\n",
              "      <td>Python/Pyspark/Spark</td>\n",
              "      <td>No diploma</td>\n",
              "      <td>4.0</td>\n",
              "      <td>Toulouse</td>\n",
              "      <td>Confirme</td>\n",
              "    </tr>\n",
              "    <tr>\n",
              "      <th>9576</th>\n",
              "      <td>Ra Pharmaceutical</td>\n",
              "      <td>Data scientist</td>\n",
              "      <td>R/machine learning/Excel/VBA</td>\n",
              "      <td>Phd</td>\n",
              "      <td>2.5</td>\n",
              "      <td>Toulouse</td>\n",
              "      <td>Confirme</td>\n",
              "    </tr>\n",
              "    <tr>\n",
              "      <th>9577</th>\n",
              "      <td>Massachusetts General Hospital(MGH)</td>\n",
              "      <td>Data scientist</td>\n",
              "      <td>C++/R/Python/Matlab/Matplotlib</td>\n",
              "      <td>Master</td>\n",
              "      <td>1.5</td>\n",
              "      <td>Lyon</td>\n",
              "      <td>Debutant</td>\n",
              "    </tr>\n",
              "    <tr>\n",
              "      <th>9578</th>\n",
              "      <td>Charles River Analytics</td>\n",
              "      <td>Data scientist</td>\n",
              "      <td>Excel/Python/Matlab/R/machine learning/anglais</td>\n",
              "      <td>Master</td>\n",
              "      <td>11.0</td>\n",
              "      <td>Toulouse</td>\n",
              "      <td>Expert</td>\n",
              "    </tr>\n",
              "    <tr>\n",
              "      <th>9579</th>\n",
              "      <td>Ball Aerospace</td>\n",
              "      <td>Data scientist</td>\n",
              "      <td>R/machine learning/Excel/VBA</td>\n",
              "      <td>Master</td>\n",
              "      <td>1.0</td>\n",
              "      <td>Paris</td>\n",
              "      <td>Debutant</td>\n",
              "    </tr>\n",
              "    <tr>\n",
              "      <th>9580</th>\n",
              "      <td>Takeda Pharmaceutical</td>\n",
              "      <td>Data scientist</td>\n",
              "      <td>Python/Pyspark/machine learning/Microsoft Azure</td>\n",
              "      <td>Master</td>\n",
              "      <td>17.0</td>\n",
              "      <td>Rennes</td>\n",
              "      <td>Expert</td>\n",
              "    </tr>\n",
              "    <tr>\n",
              "      <th>9581</th>\n",
              "      <td>Vertex</td>\n",
              "      <td>Data scientist</td>\n",
              "      <td>VBA/Python/Excel/R</td>\n",
              "      <td>Phd</td>\n",
              "      <td>0.0</td>\n",
              "      <td>Paris</td>\n",
              "      <td>Debutant</td>\n",
              "    </tr>\n",
              "  </tbody>\n",
              "</table>\n",
              "</div>"
            ],
            "text/plain": [
              "                               Entreprise           Metier  ...     Ville Exp_label\n",
              "9572                         State Street   Data scientist  ...      Lyon  Debutant\n",
              "9573                               Jacobs   Data scientist  ...  Bordeaux  Confirme\n",
              "9574      Georgia Tech Research Institute  Data architecte  ...  Toulouse  Confirme\n",
              "9575                                Hatch    Data engineer  ...  Toulouse  Confirme\n",
              "9576                    Ra Pharmaceutical   Data scientist  ...  Toulouse  Confirme\n",
              "9577  Massachusetts General Hospital(MGH)   Data scientist  ...      Lyon  Debutant\n",
              "9578              Charles River Analytics   Data scientist  ...  Toulouse    Expert\n",
              "9579                       Ball Aerospace   Data scientist  ...     Paris  Debutant\n",
              "9580                Takeda Pharmaceutical   Data scientist  ...    Rennes    Expert\n",
              "9581                               Vertex   Data scientist  ...     Paris  Debutant\n",
              "\n",
              "[10 rows x 7 columns]"
            ]
          },
          "metadata": {
            "tags": []
          },
          "execution_count": 86
        }
      ]
    },
    {
      "cell_type": "code",
      "metadata": {
        "colab": {
          "base_uri": "https://localhost:8080/",
          "height": 469
        },
        "id": "Z0ejou-HpyU-",
        "outputId": "f8d7af77-879c-40d1-86c8-f384806ce80f"
      },
      "source": [
        "plt.figure(figsize=(6, 6))\n",
        "sb.barplot(x=df['Exp_label'].value_counts().keys(),y=df['Exp_label'].value_counts().values)\n",
        "plt.ylabel(\"Le nombre d'employeurs \\n\")\n",
        "plt.title(\"Le nombre d'employeurs par niveau.\\n\")\n",
        "plt.show()"
      ],
      "execution_count": 87,
      "outputs": [
        {
          "output_type": "display_data",
          "data": {
            "image/png": "[encoded data removed]",
            "text/plain": [
              "<Figure size 480x480 with 1 Axes>"
            ]
          },
          "metadata": {
            "tags": []
          }
        }
      ]
    },
    {
      "cell_type": "markdown",
      "metadata": {
        "id": "3hrKRQvYVfea"
      },
      "source": [
        "### 7) Quelles sont les 5 technologies les plus utilisées? Faites un graphique"
      ]
    },
    {
      "cell_type": "code",
      "metadata": {
        "colab": {
          "base_uri": "https://localhost:8080/"
        },
        "id": "iJ5akHzj1VwT",
        "outputId": "8c6fc9f8-cd9c-44b4-d1cb-006178d365af"
      },
      "source": [
        "most_used_tech=df['Technologies'].value_counts()[:5]\n",
        "print(\"les 5 technologies les plus utilisées sont :\\n\")\n",
        "print(most_used_tech)"
      ],
      "execution_count": 88,
      "outputs": [
        {
          "output_type": "stream",
          "text": [
            "les 5 technologies les plus utilisées sont :\n",
            "\n",
            "SQL/R/Python//Big data                                539\n",
            "SAS/Teradata/SQL/R/Python/Machine learning/Anglais    458\n",
            "C++/R/Python/Matlab/Matplotlib                        273\n",
            "SPSS/Excel/SAS/R/machine learning/AI/Scoring          250\n",
            "Hadoop/Hive/Vertica/Tableau                           250\n",
            "Name: Technologies, dtype: int64\n"
          ],
          "name": "stdout"
        }
      ]
    },
    {
      "cell_type": "code",
      "metadata": {
        "colab": {
          "base_uri": "https://localhost:8080/",
          "height": 325
        },
        "id": "jT3_yqaNWidc",
        "outputId": "9292d22b-c83d-4b88-ec8b-c5cd2ff52dc3"
      },
      "source": [
        "plt.figure(figsize=(8, 4))\n",
        "sb.barplot(x=most_used_tech.values,y=most_used_tech.keys())\n",
        "plt.title(\"les 5 technologies les plus utilisées\")\n",
        "plt.show()"
      ],
      "execution_count": 89,
      "outputs": [
        {
          "output_type": "display_data",
          "data": {
            "image/png": "[encoded data removed]",
            "text/plain": [
              "<Figure size 640x320 with 1 Axes>"
            ]
          },
          "metadata": {
            "tags": []
          }
        }
      ]
    },
    {
      "cell_type": "markdown",
      "metadata": {
        "id": "FB9qgfZoVfeb"
      },
      "source": [
        "### 8) Réaliser une méthode de clustering non supervisée de votre choix pour faire apparaître 2 clusters que vous jugerez pertinents. Donnez les caractéristiques de chacun des clusters.\n",
        "-  Justifier la performance de votre algorithme grace à une métrique.\n",
        "-  Interpréter votre resultat.  "
      ]
    },
    {
      "cell_type": "markdown",
      "metadata": {
        "id": "sp-ryGbGBwVI"
      },
      "source": [
        "#**Analyse du forme**"
      ]
    },
    {
      "cell_type": "markdown",
      "metadata": {
        "id": "j3xsviZHlyq5"
      },
      "source": [
        "### On crée une copie du Dataset"
      ]
    },
    {
      "cell_type": "code",
      "metadata": {
        "colab": {
          "base_uri": "https://localhost:8080/"
        },
        "id": "-6lDWI0JGXEy",
        "outputId": "f70306f9-bc43-4c99-aed3-26784306cda3"
      },
      "source": [
        "data=df.copy()\n",
        "\n",
        "data.shape"
      ],
      "execution_count": 90,
      "outputs": [
        {
          "output_type": "execute_result",
          "data": {
            "text/plain": [
              "(9582, 7)"
            ]
          },
          "metadata": {
            "tags": []
          },
          "execution_count": 90
        }
      ]
    },
    {
      "cell_type": "markdown",
      "metadata": {
        "id": "sv5XA4GnltaT"
      },
      "source": [
        "### Etudier tous les éléments de chaque caractéristique\n",
        "\n"
      ]
    },
    {
      "cell_type": "code",
      "metadata": {
        "colab": {
          "base_uri": "https://localhost:8080/"
        },
        "id": "aSMjXvO-dqe1",
        "outputId": "f44ea575-7491-4db5-ee61-52e4dec9950b"
      },
      "source": [
        "for column in data:\n",
        "  unique_val=data[column].unique()\n",
        "  nr_unique_val=len(unique_val)\n",
        "  if nr_unique_val<10:\n",
        "    print(\"the number of value for feature {} : {} ---- {}\".format(column,nr_unique_val,unique_val))\n",
        "  else:\n",
        "    print(\"the number of value for feature {} : {}\".format(column,nr_unique_val))"
      ],
      "execution_count": 91,
      "outputs": [
        {
          "output_type": "stream",
          "text": [
            "the number of value for feature Entreprise : 1383\n",
            "the number of value for feature Metier : 5 ---- ['Data scientist' 'Data architecte' 'Lead data scientist' 'Data engineer'\n",
            " nan]\n",
            "the number of value for feature Technologies : 57\n",
            "the number of value for feature Diplome : 4 ---- ['Master' 'Phd' 'Bachelor' 'No diploma']\n",
            "the number of value for feature Experience : 24\n",
            "the number of value for feature Ville : 14\n",
            "the number of value for feature Exp_label : 4 ---- ['Debutant', 'Confirme', 'Avance', 'Expert']\n",
            "Categories (4, object): ['Debutant' < 'Confirme' < 'Avance' < 'Expert']\n"
          ],
          "name": "stdout"
        }
      ]
    },
    {
      "cell_type": "markdown",
      "metadata": {
        "id": "H2pJvLSql4Mi"
      },
      "source": [
        "### On prepare un pipeline qui fait l'encodage et la normalisation des données"
      ]
    },
    {
      "cell_type": "code",
      "metadata": {
        "id": "KZ1Yn2f_wQ-w"
      },
      "source": [
        "# 1) Pipeline pour les variables numériques\n",
        "numerical_pipeline=make_pipeline(SimpleImputer(),StandardScaler())\n",
        "\n",
        "# 2) Pipeline pour les autres variables qui sont qualitatives\n",
        "categorical_pipeline=make_pipeline(SimpleImputer(strategy='most_frequent'),OneHotEncoder())\n"
      ],
      "execution_count": 92,
      "outputs": []
    },
    {
      "cell_type": "code",
      "metadata": {
        "id": "CSBxqpFPxbt3"
      },
      "source": [
        "numerical_features=['Experience']\n",
        "categorical_features=['Technologies','Diplome','Exp_label']"
      ],
      "execution_count": 93,
      "outputs": []
    },
    {
      "cell_type": "code",
      "metadata": {
        "id": "SzywBJrqyPKX"
      },
      "source": [
        "# Construire un ColumnTransformer à partir des transformateurs donnés\n",
        "preprocessor= make_column_transformer((numerical_pipeline,numerical_features),(categorical_pipeline,categorical_features))"
      ],
      "execution_count": 94,
      "outputs": []
    },
    {
      "cell_type": "code",
      "metadata": {
        "id": "8hQHt-SoAhRw"
      },
      "source": [
        "data=data[['Experience','Technologies','Diplome','Exp_label']]\n",
        "x_encoded=preprocessor.fit_transform(data)"
      ],
      "execution_count": 95,
      "outputs": []
    },
    {
      "cell_type": "markdown",
      "metadata": {
        "id": "NEhQJjmNm2bD"
      },
      "source": [
        "### Initialisation de l'algorithme Kmeans et de notre modèle de clustering"
      ]
    },
    {
      "cell_type": "code",
      "metadata": {
        "id": "syTfSIiszgkY"
      },
      "source": [
        "kmeans =KMeans(n_clusters=2)\n",
        "model= make_pipeline(preprocessor,kmeans)"
      ],
      "execution_count": 96,
      "outputs": []
    },
    {
      "cell_type": "code",
      "metadata": {
        "colab": {
          "base_uri": "https://localhost:8080/"
        },
        "id": "NgvrPEKH0SkQ",
        "outputId": "f4cd02cc-e516-46c9-a41d-e97ef46145c6"
      },
      "source": [
        "# Entrainer le model\n",
        "kmeans.fit(x_encoded)"
      ],
      "execution_count": 97,
      "outputs": [
        {
          "output_type": "execute_result",
          "data": {
            "text/plain": [
              "KMeans(algorithm='auto', copy_x=True, init='k-means++', max_iter=300,\n",
              "       n_clusters=2, n_init=10, n_jobs=None, precompute_distances='auto',\n",
              "       random_state=None, tol=0.0001, verbose=0)"
            ]
          },
          "metadata": {
            "tags": []
          },
          "execution_count": 97
        }
      ]
    },
    {
      "cell_type": "markdown",
      "metadata": {
        "id": "F_aizk0cMF_m"
      },
      "source": [
        "## Les caracteristiques les plus imortantes des deux clusteres"
      ]
    },
    {
      "cell_type": "markdown",
      "metadata": {
        "id": "cVfIivSAniMz"
      },
      "source": [
        "### Il faut coder le Dataset avec une autre facon  pour pouvoir extraire les caracteristiques les plus imortantes qui ont l'impact de distinguer les clusters\n"
      ]
    },
    {
      "cell_type": "code",
      "metadata": {
        "colab": {
          "base_uri": "https://localhost:8080/",
          "height": 195
        },
        "id": "1MYtlkdV9Hi6",
        "outputId": "8e085cfe-ee76-4a32-b61b-227b13b9f4df"
      },
      "source": [
        "data1=data.copy()\n",
        "data1=data1[['Experience','Technologies','Diplome','Exp_label']]\n",
        "le = preprocessing.LabelEncoder()\n",
        "df_le = data1.loc[:,['Experience']]\n",
        "data1=data1.drop(['Experience'],axis=1)\n",
        "for culumn in data1:\n",
        "  df_le[culumn]=le.fit_transform(data1[culumn])\n",
        "df_le.head()"
      ],
      "execution_count": 98,
      "outputs": [
        {
          "output_type": "execute_result",
          "data": {
            "text/html": [
              "<div>\n",
              "<style scoped>\n",
              "    .dataframe tbody tr th:only-of-type {\n",
              "        vertical-align: middle;\n",
              "    }\n",
              "\n",
              "    .dataframe tbody tr th {\n",
              "        vertical-align: top;\n",
              "    }\n",
              "\n",
              "    .dataframe thead th {\n",
              "        text-align: right;\n",
              "    }\n",
              "</style>\n",
              "<table border=\"1\" class=\"dataframe\">\n",
              "  <thead>\n",
              "    <tr style=\"text-align: right;\">\n",
              "      <th></th>\n",
              "      <th>Experience</th>\n",
              "      <th>Technologies</th>\n",
              "      <th>Diplome</th>\n",
              "      <th>Exp_label</th>\n",
              "    </tr>\n",
              "  </thead>\n",
              "  <tbody>\n",
              "    <tr>\n",
              "      <th>0</th>\n",
              "      <td>1.0</td>\n",
              "      <td>27</td>\n",
              "      <td>1</td>\n",
              "      <td>2</td>\n",
              "    </tr>\n",
              "    <tr>\n",
              "      <th>1</th>\n",
              "      <td>3.0</td>\n",
              "      <td>34</td>\n",
              "      <td>1</td>\n",
              "      <td>1</td>\n",
              "    </tr>\n",
              "    <tr>\n",
              "      <th>2</th>\n",
              "      <td>3.0</td>\n",
              "      <td>51</td>\n",
              "      <td>1</td>\n",
              "      <td>1</td>\n",
              "    </tr>\n",
              "    <tr>\n",
              "      <th>3</th>\n",
              "      <td>1.5</td>\n",
              "      <td>2</td>\n",
              "      <td>1</td>\n",
              "      <td>2</td>\n",
              "    </tr>\n",
              "    <tr>\n",
              "      <th>4</th>\n",
              "      <td>2.0</td>\n",
              "      <td>26</td>\n",
              "      <td>3</td>\n",
              "      <td>2</td>\n",
              "    </tr>\n",
              "  </tbody>\n",
              "</table>\n",
              "</div>"
            ],
            "text/plain": [
              "   Experience  Technologies  Diplome  Exp_label\n",
              "0         1.0            27        1          2\n",
              "1         3.0            34        1          1\n",
              "2         3.0            51        1          1\n",
              "3         1.5             2        1          2\n",
              "4         2.0            26        3          2"
            ]
          },
          "metadata": {
            "tags": []
          },
          "execution_count": 98
        }
      ]
    },
    {
      "cell_type": "markdown",
      "metadata": {
        "id": "2ZOoBYZ1pLNS"
      },
      "source": [
        "### Rajouter la variable \"Labels\" au data-frame initial et Configuration des points dans le plan"
      ]
    },
    {
      "cell_type": "code",
      "metadata": {
        "colab": {
          "base_uri": "https://localhost:8080/",
          "height": 854
        },
        "id": "6K8pXUew54-S",
        "outputId": "8e230bea-07e9-4c92-8cc8-2c3d43cbd4ee"
      },
      "source": [
        "labels = kmeans.labels_\n",
        "B=df_le.copy()\n",
        "B['labels']=labels\n",
        "\n",
        "#des variables prises par paires\n",
        "#On colore les points selon les labels\n",
        "sb.pairplot(B,hue='labels')"
      ],
      "execution_count": 99,
      "outputs": [
        {
          "output_type": "stream",
          "text": [
            "/usr/local/lib/python3.7/dist-packages/seaborn/distributions.py:306: UserWarning: Dataset has 0 variance; skipping density estimate.\n",
            "  warnings.warn(msg, UserWarning)\n"
          ],
          "name": "stderr"
        },
        {
          "output_type": "execute_result",
          "data": {
            "text/plain": [
              "<seaborn.axisgrid.PairGrid at 0x7fab4f9dd2d0>"
            ]
          },
          "metadata": {
            "tags": []
          },
          "execution_count": 99
        },
        {
          "output_type": "display_data",
          "data": {
            "image/png": "[encoded data removed]",
            "text/plain": [
              "<Figure size 867.85x800 with 20 Axes>"
            ]
          },
          "metadata": {
            "tags": []
          }
        }
      ]
    },
    {
      "cell_type": "markdown",
      "metadata": {
        "id": "f2quCJuHnxhT"
      },
      "source": [
        "### A partir ce graphique, et sur la diagonale principal, les fonctions de densité conditionnelle  permet de savoir quand les variables sont prises de maniere individuelle lesquels ont le plus d'impact sur la séparabilité des clusters <br>On peut constater donc que les caractistiques les plus imortantes à distinguer les deux clusteres sont : **Experience et Exp_label**"
      ]
    },
    {
      "cell_type": "markdown",
      "metadata": {
        "id": "NJaLaOrpoYvp"
      },
      "source": [
        "### Il est également possible de calculer les moyennes des caractéristiques par Label pour savoir comment elles diffèrent les deux clusters.<br> Cette technique peut être utile lorsque nous avons plusieurs variables"
      ]
    },
    {
      "cell_type": "code",
      "metadata": {
        "colab": {
          "base_uri": "https://localhost:8080/",
          "height": 157
        },
        "id": "MBsfocdfC6TV",
        "outputId": "30e866f5-94ae-4a82-b972-d83abe7fe10f"
      },
      "source": [
        " #on crée tout d'abord deux sous-DataFrames pour cluster_1 et cluster_2\n",
        "gb=B.groupby(labels)\n",
        "#effectifs par classe \n",
        "print(gb.size())\n",
        "#Moyennes par classe\n",
        "gb.mean()"
      ],
      "execution_count": 100,
      "outputs": [
        {
          "output_type": "stream",
          "text": [
            "0    4842\n",
            "1    4740\n",
            "dtype: int64\n"
          ],
          "name": "stdout"
        },
        {
          "output_type": "execute_result",
          "data": {
            "text/html": [
              "<div>\n",
              "<style scoped>\n",
              "    .dataframe tbody tr th:only-of-type {\n",
              "        vertical-align: middle;\n",
              "    }\n",
              "\n",
              "    .dataframe tbody tr th {\n",
              "        vertical-align: top;\n",
              "    }\n",
              "\n",
              "    .dataframe thead th {\n",
              "        text-align: right;\n",
              "    }\n",
              "</style>\n",
              "<table border=\"1\" class=\"dataframe\">\n",
              "  <thead>\n",
              "    <tr style=\"text-align: right;\">\n",
              "      <th></th>\n",
              "      <th>Experience</th>\n",
              "      <th>Technologies</th>\n",
              "      <th>Diplome</th>\n",
              "      <th>Exp_label</th>\n",
              "      <th>labels</th>\n",
              "    </tr>\n",
              "  </thead>\n",
              "  <tbody>\n",
              "    <tr>\n",
              "      <th>0</th>\n",
              "      <td>1.033561</td>\n",
              "      <td>29.914085</td>\n",
              "      <td>1.457043</td>\n",
              "      <td>2.0000</td>\n",
              "      <td>0</td>\n",
              "    </tr>\n",
              "    <tr>\n",
              "      <th>1</th>\n",
              "      <td>4.633871</td>\n",
              "      <td>29.953165</td>\n",
              "      <td>1.394937</td>\n",
              "      <td>0.9827</td>\n",
              "      <td>1</td>\n",
              "    </tr>\n",
              "  </tbody>\n",
              "</table>\n",
              "</div>"
            ],
            "text/plain": [
              "   Experience  Technologies   Diplome  Exp_label  labels\n",
              "0    1.033561     29.914085  1.457043     2.0000       0\n",
              "1    4.633871     29.953165  1.394937     0.9827       1"
            ]
          },
          "metadata": {
            "tags": []
          },
          "execution_count": 100
        }
      ]
    },
    {
      "cell_type": "markdown",
      "metadata": {
        "id": "U9_PF1iqpPr7"
      },
      "source": [
        "### Le rapport de correlation peut aussi aider à identifier les correlation entre les Labels et les caracteristiques (forte ou faible)<br> Le tableau montre qu'il y a une correlation forte entre la variable **Experience** et **Labels**, aussi il une correlation forte entre la variable **Exp_label** et **Labels**"
      ]
    },
    {
      "cell_type": "code",
      "metadata": {
        "colab": {
          "base_uri": "https://localhost:8080/",
          "height": 195
        },
        "id": "QnqrDvK4Ekqx",
        "outputId": "f515b6fc-0631-4ea4-ea34-e66b243f02a5"
      },
      "source": [
        "B.corr()"
      ],
      "execution_count": 101,
      "outputs": [
        {
          "output_type": "execute_result",
          "data": {
            "text/html": [
              "<div>\n",
              "<style scoped>\n",
              "    .dataframe tbody tr th:only-of-type {\n",
              "        vertical-align: middle;\n",
              "    }\n",
              "\n",
              "    .dataframe tbody tr th {\n",
              "        vertical-align: top;\n",
              "    }\n",
              "\n",
              "    .dataframe thead th {\n",
              "        text-align: right;\n",
              "    }\n",
              "</style>\n",
              "<table border=\"1\" class=\"dataframe\">\n",
              "  <thead>\n",
              "    <tr style=\"text-align: right;\">\n",
              "      <th></th>\n",
              "      <th>Experience</th>\n",
              "      <th>Technologies</th>\n",
              "      <th>Diplome</th>\n",
              "      <th>Exp_label</th>\n",
              "      <th>labels</th>\n",
              "    </tr>\n",
              "  </thead>\n",
              "  <tbody>\n",
              "    <tr>\n",
              "      <th>Experience</th>\n",
              "      <td>1.000000</td>\n",
              "      <td>-0.004550</td>\n",
              "      <td>-0.020287</td>\n",
              "      <td>-0.359571</td>\n",
              "      <td>0.665770</td>\n",
              "    </tr>\n",
              "    <tr>\n",
              "      <th>Technologies</th>\n",
              "      <td>-0.004550</td>\n",
              "      <td>1.000000</td>\n",
              "      <td>0.046966</td>\n",
              "      <td>-0.020321</td>\n",
              "      <td>0.001153</td>\n",
              "    </tr>\n",
              "    <tr>\n",
              "      <th>Diplome</th>\n",
              "      <td>-0.020287</td>\n",
              "      <td>0.046966</td>\n",
              "      <td>1.000000</td>\n",
              "      <td>0.014435</td>\n",
              "      <td>-0.030952</td>\n",
              "    </tr>\n",
              "    <tr>\n",
              "      <th>Exp_label</th>\n",
              "      <td>-0.359571</td>\n",
              "      <td>-0.020321</td>\n",
              "      <td>0.014435</td>\n",
              "      <td>1.000000</td>\n",
              "      <td>-0.786682</td>\n",
              "    </tr>\n",
              "    <tr>\n",
              "      <th>labels</th>\n",
              "      <td>0.665770</td>\n",
              "      <td>0.001153</td>\n",
              "      <td>-0.030952</td>\n",
              "      <td>-0.786682</td>\n",
              "      <td>1.000000</td>\n",
              "    </tr>\n",
              "  </tbody>\n",
              "</table>\n",
              "</div>"
            ],
            "text/plain": [
              "              Experience  Technologies   Diplome  Exp_label    labels\n",
              "Experience      1.000000     -0.004550 -0.020287  -0.359571  0.665770\n",
              "Technologies   -0.004550      1.000000  0.046966  -0.020321  0.001153\n",
              "Diplome        -0.020287      0.046966  1.000000   0.014435 -0.030952\n",
              "Exp_label      -0.359571     -0.020321  0.014435   1.000000 -0.786682\n",
              "labels          0.665770      0.001153 -0.030952  -0.786682  1.000000"
            ]
          },
          "metadata": {
            "tags": []
          },
          "execution_count": 101
        }
      ]
    },
    {
      "cell_type": "markdown",
      "metadata": {
        "id": "kR5LZig-mOqh"
      },
      "source": [
        "## **Evaluation**"
      ]
    },
    {
      "cell_type": "markdown",
      "metadata": {
        "id": "6l7GdJism7GK"
      },
      "source": [
        "### La métrique utilisée est inertia"
      ]
    },
    {
      "cell_type": "code",
      "metadata": {
        "colab": {
          "base_uri": "https://localhost:8080/"
        },
        "id": "IX_mDX0AHMRu",
        "outputId": "5d19f4ce-7685-4d5c-d75a-6fc28121c91b"
      },
      "source": [
        "print(kmeans.inertia_)"
      ],
      "execution_count": 102,
      "outputs": [
        {
          "output_type": "stream",
          "text": [
            "22259.26708131416\n"
          ],
          "name": "stdout"
        }
      ]
    },
    {
      "cell_type": "markdown",
      "metadata": {
        "id": "n7BvgYrqt8_r"
      },
      "source": [
        "# Ce code à pour objectif d'identifier le nombre ideale des clusters "
      ]
    },
    {
      "cell_type": "code",
      "metadata": {
        "colab": {
          "base_uri": "https://localhost:8080/",
          "height": 523
        },
        "id": "nL9S2BDFiWUx",
        "outputId": "5b8f3351-bb95-4760-c174-b6e0234b1526"
      },
      "source": [
        "inertie=[]\n",
        "k_range= range(1,20)\n",
        "for clustr in k_range:\n",
        "  x_encoded=preprocessor.fit_transform(data)\n",
        "  kmeans = KMeans(n_clusters=clustr, max_iter = 100, algorithm = 'auto')\n",
        "  kmeans.fit(x_encoded)\n",
        "  inertie.append(kmeans.inertia_)\n",
        "\n",
        "plt.figure(figsize=(8,7))\n",
        "plt.plot(k_range,inertie)\n",
        "plt.xlabel(\"Nombre de de cluster\")\n",
        "plt.ylabel(\"la valeur d'inertia\")\n",
        "plt.show()\n",
        "\n",
        "\n"
      ],
      "execution_count": 103,
      "outputs": [
        {
          "output_type": "display_data",
          "data": {
            "image/png": "[encoded data removed]",
            "text/plain": [
              "<Figure size 640x560 with 1 Axes>"
            ]
          },
          "metadata": {
            "tags": []
          }
        }
      ]
    },
    {
      "cell_type": "markdown",
      "metadata": {
        "id": "j1hBRWVMVfeb"
      },
      "source": [
        "### 9) Réaliser la prédiction des métiers manquants dans la base de données par l'algorithme de votre choix\n",
        "-  Justifier la performance de votre algorithme grace à une métrique.\n",
        "-  Interpréter votre resultat.  "
      ]
    },
    {
      "cell_type": "markdown",
      "metadata": {
        "id": "A7u3jvXQvN9g"
      },
      "source": [
        "## On affiche d'abord les métiers manquants dans la base de données"
      ]
    },
    {
      "cell_type": "code",
      "metadata": {
        "colab": {
          "base_uri": "https://localhost:8080/",
          "height": 626
        },
        "id": "NAZtJ67636Qq",
        "outputId": "64c94e3a-a32d-4449-9829-d85ecc0d0ac1"
      },
      "source": [
        "print(\"Le nombre des métiers manquants dans la base de données est : \",len(df[df['Metier'].isna()]))\n",
        "df[df['Metier'].isna()]"
      ],
      "execution_count": 104,
      "outputs": [
        {
          "output_type": "stream",
          "text": [
            "Le nombre des métiers manquants dans la base de données est :  19\n"
          ],
          "name": "stdout"
        },
        {
          "output_type": "execute_result",
          "data": {
            "text/html": [
              "<div>\n",
              "<style scoped>\n",
              "    .dataframe tbody tr th:only-of-type {\n",
              "        vertical-align: middle;\n",
              "    }\n",
              "\n",
              "    .dataframe tbody tr th {\n",
              "        vertical-align: top;\n",
              "    }\n",
              "\n",
              "    .dataframe thead th {\n",
              "        text-align: right;\n",
              "    }\n",
              "</style>\n",
              "<table border=\"1\" class=\"dataframe\">\n",
              "  <thead>\n",
              "    <tr style=\"text-align: right;\">\n",
              "      <th></th>\n",
              "      <th>Entreprise</th>\n",
              "      <th>Metier</th>\n",
              "      <th>Technologies</th>\n",
              "      <th>Diplome</th>\n",
              "      <th>Experience</th>\n",
              "      <th>Ville</th>\n",
              "      <th>Exp_label</th>\n",
              "    </tr>\n",
              "  </thead>\n",
              "  <tbody>\n",
              "    <tr>\n",
              "      <th>346</th>\n",
              "      <td>Jacobs</td>\n",
              "      <td>NaN</td>\n",
              "      <td>Python/Spark/GNU/Linux</td>\n",
              "      <td>No diploma</td>\n",
              "      <td>2.5</td>\n",
              "      <td>Paris</td>\n",
              "      <td>Confirme</td>\n",
              "    </tr>\n",
              "    <tr>\n",
              "      <th>2058</th>\n",
              "      <td>Ball Aerospace</td>\n",
              "      <td>NaN</td>\n",
              "      <td>VBA/Python/Excel/R</td>\n",
              "      <td>Master</td>\n",
              "      <td>15.0</td>\n",
              "      <td>Lyon</td>\n",
              "      <td>Expert</td>\n",
              "    </tr>\n",
              "    <tr>\n",
              "      <th>2670</th>\n",
              "      <td>eHire, LLC</td>\n",
              "      <td>NaN</td>\n",
              "      <td>Java/C/C++/R/Python</td>\n",
              "      <td>Master</td>\n",
              "      <td>1.5</td>\n",
              "      <td>Toulouse</td>\n",
              "      <td>Debutant</td>\n",
              "    </tr>\n",
              "    <tr>\n",
              "      <th>2899</th>\n",
              "      <td>Norfolk Southern Corp</td>\n",
              "      <td>NaN</td>\n",
              "      <td>Python/Tensorflow/scikit-learn/Deep learning/R</td>\n",
              "      <td>Phd</td>\n",
              "      <td>0.0</td>\n",
              "      <td>Grenoble</td>\n",
              "      <td>Debutant</td>\n",
              "    </tr>\n",
              "    <tr>\n",
              "      <th>3346</th>\n",
              "      <td>J.E. Ranta Associates</td>\n",
              "      <td>NaN</td>\n",
              "      <td>Cassandra/MongoDB/NoSQL/AWS</td>\n",
              "      <td>Master</td>\n",
              "      <td>7.0</td>\n",
              "      <td>Rennes</td>\n",
              "      <td>Avance</td>\n",
              "    </tr>\n",
              "    <tr>\n",
              "      <th>4248</th>\n",
              "      <td>KPMG</td>\n",
              "      <td>NaN</td>\n",
              "      <td>Python/Microsoft Azure/R/SQL</td>\n",
              "      <td>Phd</td>\n",
              "      <td>2.0</td>\n",
              "      <td>Lyon</td>\n",
              "      <td>Debutant</td>\n",
              "    </tr>\n",
              "    <tr>\n",
              "      <th>4290</th>\n",
              "      <td>Pandora Media, Inc.</td>\n",
              "      <td>NaN</td>\n",
              "      <td>SAS/Teradata/SQL/R/Python/Machine learning/Ang...</td>\n",
              "      <td>Phd</td>\n",
              "      <td>1.5</td>\n",
              "      <td>Toulouse</td>\n",
              "      <td>Debutant</td>\n",
              "    </tr>\n",
              "    <tr>\n",
              "      <th>4292</th>\n",
              "      <td>Partners HealthCare(PHS)</td>\n",
              "      <td>NaN</td>\n",
              "      <td>SAS/Teradata/SQL/R/Python/Machine learning/Ang...</td>\n",
              "      <td>Master</td>\n",
              "      <td>8.0</td>\n",
              "      <td>Bordeaux</td>\n",
              "      <td>Avance</td>\n",
              "    </tr>\n",
              "    <tr>\n",
              "      <th>5425</th>\n",
              "      <td>Ashton Lane Group</td>\n",
              "      <td>NaN</td>\n",
              "      <td>Python/Pyspark/Spark</td>\n",
              "      <td>No diploma</td>\n",
              "      <td>5.0</td>\n",
              "      <td>Lyon</td>\n",
              "      <td>Confirme</td>\n",
              "    </tr>\n",
              "    <tr>\n",
              "      <th>5593</th>\n",
              "      <td>Lighthouse Lab Services</td>\n",
              "      <td>NaN</td>\n",
              "      <td>Python/R/machine learning/Excel/VBA/C++</td>\n",
              "      <td>Master</td>\n",
              "      <td>3.0</td>\n",
              "      <td>Lyon</td>\n",
              "      <td>Confirme</td>\n",
              "    </tr>\n",
              "    <tr>\n",
              "      <th>5712</th>\n",
              "      <td>Ball Aerospace</td>\n",
              "      <td>NaN</td>\n",
              "      <td>Hadoop/Hive/Vertica/Tableau</td>\n",
              "      <td>Bachelor</td>\n",
              "      <td>3.0</td>\n",
              "      <td>Paris</td>\n",
              "      <td>Confirme</td>\n",
              "    </tr>\n",
              "    <tr>\n",
              "      <th>6024</th>\n",
              "      <td>Leidos</td>\n",
              "      <td>NaN</td>\n",
              "      <td>Linux/Python/Hadoop/Perl/Ruby</td>\n",
              "      <td>Master</td>\n",
              "      <td>1.5</td>\n",
              "      <td>Lyon</td>\n",
              "      <td>Debutant</td>\n",
              "    </tr>\n",
              "    <tr>\n",
              "      <th>6625</th>\n",
              "      <td>Ball Aerospace</td>\n",
              "      <td>NaN</td>\n",
              "      <td>Hadoop/Hive/Vertica/Tableau</td>\n",
              "      <td>No diploma</td>\n",
              "      <td>0.0</td>\n",
              "      <td>Paris</td>\n",
              "      <td>Debutant</td>\n",
              "    </tr>\n",
              "    <tr>\n",
              "      <th>7091</th>\n",
              "      <td>KPMG</td>\n",
              "      <td>NaN</td>\n",
              "      <td>SAS/Teradata/SQL/R/Python/Machine learning/Ang...</td>\n",
              "      <td>Master</td>\n",
              "      <td>0.0</td>\n",
              "      <td>Marseille</td>\n",
              "      <td>Debutant</td>\n",
              "    </tr>\n",
              "    <tr>\n",
              "      <th>7228</th>\n",
              "      <td>Environmental Defense Fund</td>\n",
              "      <td>NaN</td>\n",
              "      <td>Map-Reduce/HDFS/PIG/HBASE/Python/Cassandra</td>\n",
              "      <td>Master</td>\n",
              "      <td>2.5</td>\n",
              "      <td>Bordeaux</td>\n",
              "      <td>Confirme</td>\n",
              "    </tr>\n",
              "    <tr>\n",
              "      <th>7330</th>\n",
              "      <td>Turner</td>\n",
              "      <td>NaN</td>\n",
              "      <td>Excel/Python/Matlab/R/machine learning/anglais</td>\n",
              "      <td>Phd</td>\n",
              "      <td>0.5</td>\n",
              "      <td>Lyon</td>\n",
              "      <td>Debutant</td>\n",
              "    </tr>\n",
              "    <tr>\n",
              "      <th>9087</th>\n",
              "      <td>Klein Hersh International</td>\n",
              "      <td>NaN</td>\n",
              "      <td>Hadoop/Hive/Vertica/Tableau</td>\n",
              "      <td>No diploma</td>\n",
              "      <td>3.5</td>\n",
              "      <td>Paris</td>\n",
              "      <td>Confirme</td>\n",
              "    </tr>\n",
              "    <tr>\n",
              "      <th>9427</th>\n",
              "      <td>McKinsey &amp; Company</td>\n",
              "      <td>NaN</td>\n",
              "      <td>Python/R/machine learning/Excel/VBA/C++</td>\n",
              "      <td>Master</td>\n",
              "      <td>1.0</td>\n",
              "      <td>Marseille</td>\n",
              "      <td>Debutant</td>\n",
              "    </tr>\n",
              "    <tr>\n",
              "      <th>9490</th>\n",
              "      <td>Pearson</td>\n",
              "      <td>NaN</td>\n",
              "      <td>R/Python/Spark/Pycharm/SAS/SQL</td>\n",
              "      <td>Master</td>\n",
              "      <td>4.0</td>\n",
              "      <td>Marseille</td>\n",
              "      <td>Confirme</td>\n",
              "    </tr>\n",
              "  </tbody>\n",
              "</table>\n",
              "</div>"
            ],
            "text/plain": [
              "                      Entreprise Metier  ...      Ville Exp_label\n",
              "346                       Jacobs    NaN  ...      Paris  Confirme\n",
              "2058              Ball Aerospace    NaN  ...       Lyon    Expert\n",
              "2670                  eHire, LLC    NaN  ...   Toulouse  Debutant\n",
              "2899       Norfolk Southern Corp    NaN  ...   Grenoble  Debutant\n",
              "3346       J.E. Ranta Associates    NaN  ...     Rennes    Avance\n",
              "4248                        KPMG    NaN  ...       Lyon  Debutant\n",
              "4290         Pandora Media, Inc.    NaN  ...   Toulouse  Debutant\n",
              "4292    Partners HealthCare(PHS)    NaN  ...   Bordeaux    Avance\n",
              "5425           Ashton Lane Group    NaN  ...       Lyon  Confirme\n",
              "5593     Lighthouse Lab Services    NaN  ...       Lyon  Confirme\n",
              "5712              Ball Aerospace    NaN  ...      Paris  Confirme\n",
              "6024                      Leidos    NaN  ...       Lyon  Debutant\n",
              "6625              Ball Aerospace    NaN  ...      Paris  Debutant\n",
              "7091                        KPMG    NaN  ...  Marseille  Debutant\n",
              "7228  Environmental Defense Fund    NaN  ...   Bordeaux  Confirme\n",
              "7330                      Turner    NaN  ...       Lyon  Debutant\n",
              "9087   Klein Hersh International    NaN  ...      Paris  Confirme\n",
              "9427          McKinsey & Company    NaN  ...  Marseille  Debutant\n",
              "9490                     Pearson    NaN  ...  Marseille  Confirme\n",
              "\n",
              "[19 rows x 7 columns]"
            ]
          },
          "metadata": {
            "tags": []
          },
          "execution_count": 104
        }
      ]
    },
    {
      "cell_type": "markdown",
      "metadata": {
        "id": "xBXOKMcvwKKC"
      },
      "source": [
        "### On prépare les données d'entrainement et les données des métiers manquants"
      ]
    },
    {
      "cell_type": "code",
      "metadata": {
        "id": "wv4qbi3k4jh7"
      },
      "source": [
        "mum_category=preprocessing.LabelEncoder()\n",
        "metier_manq= df.loc[:,'Metier'].isna()\n",
        "x=np.array(df_le[~metier_manq])\n",
        "y=mum_category.fit_transform(df.loc[~metier_manq,'Metier'].dropna())\n",
        "#Metiers à predire\n",
        "metier_a_predire=np.array(df_le[metier_manq])"
      ],
      "execution_count": 105,
      "outputs": []
    },
    {
      "cell_type": "code",
      "metadata": {
        "colab": {
          "base_uri": "https://localhost:8080/"
        },
        "id": "TV5xwkxL6ydU",
        "outputId": "0e62daca-9cbd-45c5-ee3c-d10dfc1001c7"
      },
      "source": [
        "x.shape, y.shape, metier_a_predire.shape"
      ],
      "execution_count": 106,
      "outputs": [
        {
          "output_type": "execute_result",
          "data": {
            "text/plain": [
              "((9563, 4), (9563,), (19, 4))"
            ]
          },
          "metadata": {
            "tags": []
          },
          "execution_count": 106
        }
      ]
    },
    {
      "cell_type": "code",
      "metadata": {
        "id": "MGmu4V2i-y7d"
      },
      "source": [
        "X_train, X_test, y_train, y_test = train_test_split(x, y, test_size=.25, shuffle=True , random_state=0)"
      ],
      "execution_count": 107,
      "outputs": []
    },
    {
      "cell_type": "markdown",
      "metadata": {
        "id": "H3m-1RdEgaV0"
      },
      "source": [
        "### Nous allons tester différents modèles d'apprentissage automatique afin de choisir le modèle ayant la plus grande précision pour la prédiction des métiers manquants.<br>Et pour chaque alogorithme, nous allons utiliser une technique pour sélectionner les meilleurs paramètres. "
      ]
    },
    {
      "cell_type": "markdown",
      "metadata": {
        "id": "yhxF1oP8-7rz"
      },
      "source": [
        "### 1. Model KNeighborsClassifier\n"
      ]
    },
    {
      "cell_type": "code",
      "metadata": {
        "colab": {
          "base_uri": "https://localhost:8080/"
        },
        "id": "7IJw5gxy-y-k",
        "outputId": "dfa65399-7af6-49c1-9e5d-995aa17012ab"
      },
      "source": [
        "param_grid={'n_neighbors':np.arange(1,20),\n",
        "            'metric':['euclidean','manhattan']}\n",
        "grid=GridSearchCV(KNeighborsClassifier(),param_grid)\n",
        "grid.fit(X_train,y_train)\n",
        "model_KNN=grid.best_estimator_\n",
        "print(grid.best_score_,grid.best_params_)"
      ],
      "execution_count": 108,
      "outputs": [
        {
          "output_type": "stream",
          "text": [
            "0.8568036582936062 {'metric': 'manhattan', 'n_neighbors': 6}\n"
          ],
          "name": "stdout"
        }
      ]
    },
    {
      "cell_type": "markdown",
      "metadata": {
        "id": "lyw1uVQQ_C_d"
      },
      "source": [
        "###2. Model DecisionTreeClassifier\n"
      ]
    },
    {
      "cell_type": "code",
      "metadata": {
        "colab": {
          "base_uri": "https://localhost:8080/"
        },
        "id": "LmqEoLc5-YAk",
        "outputId": "3b8969b7-65a0-4a20-b973-169f28c48eef"
      },
      "source": [
        "param_grid={'criterion':['gini','entropy'],'max_depth':[4,5,6,7,8,9,10,11,12,15,20,30,40,50,70,90,120,150]}\n",
        "grid=GridSearchCV(DecisionTreeClassifier(),param_grid)\n",
        "grid.fit(X_train,y_train)\n",
        "model_DT=grid.best_estimator_\n",
        "print(grid.best_score_,grid.best_params_)\n",
        " "
      ],
      "execution_count": 109,
      "outputs": [
        {
          "output_type": "stream",
          "text": [
            "0.880367870385219 {'criterion': 'entropy', 'max_depth': 15}\n"
          ],
          "name": "stdout"
        }
      ]
    },
    {
      "cell_type": "markdown",
      "metadata": {
        "id": "Ww3dyuPqAzJ8"
      },
      "source": [
        "##3. Model RandomForestClassifier \n",
        "\n"
      ]
    },
    {
      "cell_type": "code",
      "metadata": {
        "colab": {
          "base_uri": "https://localhost:8080/"
        },
        "id": "Eq3Ea7UGx7KS",
        "outputId": "ae9f145c-d548-4cd0-9ee6-1fea84d875c9"
      },
      "source": [
        "param_grid = {\n",
        "    'n_estimators'      : [320,330,340],\n",
        "    'max_depth'         : [8, 9, 10, 11, 12],\n",
        "    'random_state'      : [0],\n",
        "    #'max_features': ['auto'],\n",
        "    #'criterion' :['gini']\n",
        "}\n",
        "\n",
        "model_rfc = GridSearchCV(RandomForestClassifier(), param_grid, cv=10, n_jobs=-1)\n",
        "model_rfc.fit(X_train,y_train)\n",
        "print(model_rfc.best_score_,model_rfc.best_params_)\n",
        "model_rfc=model_rfc.best_estimator_"
      ],
      "execution_count": 110,
      "outputs": [
        {
          "output_type": "stream",
          "text": [
            "0.8530395916131515 {'max_depth': 12, 'n_estimators': 320, 'random_state': 0}\n"
          ],
          "name": "stdout"
        }
      ]
    },
    {
      "cell_type": "markdown",
      "metadata": {
        "id": "6hxc_FnCFDCD"
      },
      "source": [
        "Pour essayer d'améliorer les performances de notre modèle, nous pouvons tester une méthode qui consiste à former plusieurs modèles d'apprentissage automatique et à considérer ensuite toutes leurs prédictions "
      ]
    },
    {
      "cell_type": "code",
      "metadata": {
        "id": "0wFi3OSUFBxK",
        "colab": {
          "base_uri": "https://localhost:8080/"
        },
        "outputId": "fd57ffd8-13a0-403d-bc44-6251acb54b1f"
      },
      "source": [
        "model=VotingClassifier([('rf', model_rfc),\n",
        "                          ('Tree',model_DT),\n",
        "                          ('KNN',model_KNN)],\n",
        "                         voting='soft')\n",
        "\n",
        "for model in(model_rfc,model_DT,model_KNN,model):\n",
        "  model.fit(X_train,y_train)\n",
        "  print(model.__class__.__name__,model.score(X_test,y_test))"
      ],
      "execution_count": 111,
      "outputs": [
        {
          "output_type": "stream",
          "text": [
            "RandomForestClassifier 0.8607277289836889\n",
            "DecisionTreeClassifier 0.8841488916771225\n",
            "KNeighborsClassifier 0.8665830196570473\n",
            "VotingClassifier 0.8841488916771225\n"
          ],
          "name": "stdout"
        }
      ]
    },
    {
      "cell_type": "markdown",
      "metadata": {
        "id": "1C4Zbf9MxKip"
      },
      "source": [
        "Cette technique de vote ne fonctionne pas bien dans notre cas, peut-être parce qu'il n'y a pas beaucoup de diversité entre les 3 modèles, c'est-à-dire qu'en termes de prédiction, ils nous diront tous la même chose, donc ils ne sont pas très diversifiés.\n",
        "Dans ce cas, j'ai choisi le modèle qui a donné la meilleure performance (**modèle_DT**)."
      ]
    },
    {
      "cell_type": "code",
      "metadata": {
        "colab": {
          "base_uri": "https://localhost:8080/"
        },
        "id": "Le8mEjDv-zBi",
        "outputId": "cd7fae54-5e57-4b50-aea1-7719d9a24774"
      },
      "source": [
        "y_pred = model_DT.predict(X_test)\n",
        "c__matrix = confusion_matrix(y_test, y_pred) \n",
        "print('Matrice de confusion :\\n')\n",
        "print(c__matrix)\n",
        "print('\\n\\n Rapport de classificiation :\\n')\n",
        "print(classification_report(y_test,y_pred))"
      ],
      "execution_count": 112,
      "outputs": [
        {
          "output_type": "stream",
          "text": [
            "Matrice de confusion :\n",
            "\n",
            "[[500   3   7   0]\n",
            " [  1 588   2   0]\n",
            " [ 13   0 894  78]\n",
            " [  3   0 170 132]]\n",
            "\n",
            "\n",
            " Rapport de classificiation :\n",
            "\n",
            "              precision    recall  f1-score   support\n",
            "\n",
            "           0       0.97      0.98      0.97       510\n",
            "           1       0.99      0.99      0.99       591\n",
            "           2       0.83      0.91      0.87       985\n",
            "           3       0.63      0.43      0.51       305\n",
            "\n",
            "    accuracy                           0.88      2391\n",
            "   macro avg       0.86      0.83      0.84      2391\n",
            "weighted avg       0.88      0.88      0.88      2391\n",
            "\n"
          ],
          "name": "stdout"
        }
      ]
    },
    {
      "cell_type": "markdown",
      "metadata": {
        "id": "pFam45DX5cJx"
      },
      "source": [
        "##  Prédiction des métiers manquants dans la base de données"
      ]
    },
    {
      "cell_type": "code",
      "metadata": {
        "colab": {
          "base_uri": "https://localhost:8080/",
          "height": 778
        },
        "id": "RkDlODeA_Hpc",
        "outputId": "478f1007-95ee-4164-8b67-5928e4a87373"
      },
      "source": [
        "#Prédire les métiers manquants\n",
        "Predicted_Metiers=model_DT.predict(metier_a_predire)\n",
        "#Remplissage de la base de données par les métiers prédis\n",
        "df.loc[~metier_manq, 'Predicted_Metiers'] = df.loc[:,'Metier']\n",
        "df.loc[metier_manq, 'Predicted_Metiers'] = mum_category.inverse_transform(Predicted_Metiers)\n",
        "#Affichage\n",
        "print(\"Les résultats de la prediction des métiers manquants \\n\")\n",
        "df[metier_manq]"
      ],
      "execution_count": 113,
      "outputs": [
        {
          "output_type": "stream",
          "text": [
            "Les résultats de la prediction des métiers manquants \n",
            "\n"
          ],
          "name": "stdout"
        },
        {
          "output_type": "execute_result",
          "data": {
            "text/html": [
              "<div>\n",
              "<style scoped>\n",
              "    .dataframe tbody tr th:only-of-type {\n",
              "        vertical-align: middle;\n",
              "    }\n",
              "\n",
              "    .dataframe tbody tr th {\n",
              "        vertical-align: top;\n",
              "    }\n",
              "\n",
              "    .dataframe thead th {\n",
              "        text-align: right;\n",
              "    }\n",
              "</style>\n",
              "<table border=\"1\" class=\"dataframe\">\n",
              "  <thead>\n",
              "    <tr style=\"text-align: right;\">\n",
              "      <th></th>\n",
              "      <th>Entreprise</th>\n",
              "      <th>Metier</th>\n",
              "      <th>Technologies</th>\n",
              "      <th>Diplome</th>\n",
              "      <th>Experience</th>\n",
              "      <th>Ville</th>\n",
              "      <th>Exp_label</th>\n",
              "      <th>Predicted_Metiers</th>\n",
              "    </tr>\n",
              "  </thead>\n",
              "  <tbody>\n",
              "    <tr>\n",
              "      <th>346</th>\n",
              "      <td>Jacobs</td>\n",
              "      <td>NaN</td>\n",
              "      <td>Python/Spark/GNU/Linux</td>\n",
              "      <td>No diploma</td>\n",
              "      <td>2.5</td>\n",
              "      <td>Paris</td>\n",
              "      <td>Confirme</td>\n",
              "      <td>Data engineer</td>\n",
              "    </tr>\n",
              "    <tr>\n",
              "      <th>2058</th>\n",
              "      <td>Ball Aerospace</td>\n",
              "      <td>NaN</td>\n",
              "      <td>VBA/Python/Excel/R</td>\n",
              "      <td>Master</td>\n",
              "      <td>15.0</td>\n",
              "      <td>Lyon</td>\n",
              "      <td>Expert</td>\n",
              "      <td>Data scientist</td>\n",
              "    </tr>\n",
              "    <tr>\n",
              "      <th>2670</th>\n",
              "      <td>eHire, LLC</td>\n",
              "      <td>NaN</td>\n",
              "      <td>Java/C/C++/R/Python</td>\n",
              "      <td>Master</td>\n",
              "      <td>1.5</td>\n",
              "      <td>Toulouse</td>\n",
              "      <td>Debutant</td>\n",
              "      <td>Data scientist</td>\n",
              "    </tr>\n",
              "    <tr>\n",
              "      <th>2899</th>\n",
              "      <td>Norfolk Southern Corp</td>\n",
              "      <td>NaN</td>\n",
              "      <td>Python/Tensorflow/scikit-learn/Deep learning/R</td>\n",
              "      <td>Phd</td>\n",
              "      <td>0.0</td>\n",
              "      <td>Grenoble</td>\n",
              "      <td>Debutant</td>\n",
              "      <td>Data scientist</td>\n",
              "    </tr>\n",
              "    <tr>\n",
              "      <th>3346</th>\n",
              "      <td>J.E. Ranta Associates</td>\n",
              "      <td>NaN</td>\n",
              "      <td>Cassandra/MongoDB/NoSQL/AWS</td>\n",
              "      <td>Master</td>\n",
              "      <td>7.0</td>\n",
              "      <td>Rennes</td>\n",
              "      <td>Avance</td>\n",
              "      <td>Data architecte</td>\n",
              "    </tr>\n",
              "    <tr>\n",
              "      <th>4248</th>\n",
              "      <td>KPMG</td>\n",
              "      <td>NaN</td>\n",
              "      <td>Python/Microsoft Azure/R/SQL</td>\n",
              "      <td>Phd</td>\n",
              "      <td>2.0</td>\n",
              "      <td>Lyon</td>\n",
              "      <td>Debutant</td>\n",
              "      <td>Data scientist</td>\n",
              "    </tr>\n",
              "    <tr>\n",
              "      <th>4290</th>\n",
              "      <td>Pandora Media, Inc.</td>\n",
              "      <td>NaN</td>\n",
              "      <td>SAS/Teradata/SQL/R/Python/Machine learning/Ang...</td>\n",
              "      <td>Phd</td>\n",
              "      <td>1.5</td>\n",
              "      <td>Toulouse</td>\n",
              "      <td>Debutant</td>\n",
              "      <td>Data scientist</td>\n",
              "    </tr>\n",
              "    <tr>\n",
              "      <th>4292</th>\n",
              "      <td>Partners HealthCare(PHS)</td>\n",
              "      <td>NaN</td>\n",
              "      <td>SAS/Teradata/SQL/R/Python/Machine learning/Ang...</td>\n",
              "      <td>Master</td>\n",
              "      <td>8.0</td>\n",
              "      <td>Bordeaux</td>\n",
              "      <td>Avance</td>\n",
              "      <td>Lead data scientist</td>\n",
              "    </tr>\n",
              "    <tr>\n",
              "      <th>5425</th>\n",
              "      <td>Ashton Lane Group</td>\n",
              "      <td>NaN</td>\n",
              "      <td>Python/Pyspark/Spark</td>\n",
              "      <td>No diploma</td>\n",
              "      <td>5.0</td>\n",
              "      <td>Lyon</td>\n",
              "      <td>Confirme</td>\n",
              "      <td>Data engineer</td>\n",
              "    </tr>\n",
              "    <tr>\n",
              "      <th>5593</th>\n",
              "      <td>Lighthouse Lab Services</td>\n",
              "      <td>NaN</td>\n",
              "      <td>Python/R/machine learning/Excel/VBA/C++</td>\n",
              "      <td>Master</td>\n",
              "      <td>3.0</td>\n",
              "      <td>Lyon</td>\n",
              "      <td>Confirme</td>\n",
              "      <td>Lead data scientist</td>\n",
              "    </tr>\n",
              "    <tr>\n",
              "      <th>5712</th>\n",
              "      <td>Ball Aerospace</td>\n",
              "      <td>NaN</td>\n",
              "      <td>Hadoop/Hive/Vertica/Tableau</td>\n",
              "      <td>Bachelor</td>\n",
              "      <td>3.0</td>\n",
              "      <td>Paris</td>\n",
              "      <td>Confirme</td>\n",
              "      <td>Data architecte</td>\n",
              "    </tr>\n",
              "    <tr>\n",
              "      <th>6024</th>\n",
              "      <td>Leidos</td>\n",
              "      <td>NaN</td>\n",
              "      <td>Linux/Python/Hadoop/Perl/Ruby</td>\n",
              "      <td>Master</td>\n",
              "      <td>1.5</td>\n",
              "      <td>Lyon</td>\n",
              "      <td>Debutant</td>\n",
              "      <td>Data engineer</td>\n",
              "    </tr>\n",
              "    <tr>\n",
              "      <th>6625</th>\n",
              "      <td>Ball Aerospace</td>\n",
              "      <td>NaN</td>\n",
              "      <td>Hadoop/Hive/Vertica/Tableau</td>\n",
              "      <td>No diploma</td>\n",
              "      <td>0.0</td>\n",
              "      <td>Paris</td>\n",
              "      <td>Debutant</td>\n",
              "      <td>Data architecte</td>\n",
              "    </tr>\n",
              "    <tr>\n",
              "      <th>7091</th>\n",
              "      <td>KPMG</td>\n",
              "      <td>NaN</td>\n",
              "      <td>SAS/Teradata/SQL/R/Python/Machine learning/Ang...</td>\n",
              "      <td>Master</td>\n",
              "      <td>0.0</td>\n",
              "      <td>Marseille</td>\n",
              "      <td>Debutant</td>\n",
              "      <td>Data scientist</td>\n",
              "    </tr>\n",
              "    <tr>\n",
              "      <th>7228</th>\n",
              "      <td>Environmental Defense Fund</td>\n",
              "      <td>NaN</td>\n",
              "      <td>Map-Reduce/HDFS/PIG/HBASE/Python/Cassandra</td>\n",
              "      <td>Master</td>\n",
              "      <td>2.5</td>\n",
              "      <td>Bordeaux</td>\n",
              "      <td>Confirme</td>\n",
              "      <td>Data engineer</td>\n",
              "    </tr>\n",
              "    <tr>\n",
              "      <th>7330</th>\n",
              "      <td>Turner</td>\n",
              "      <td>NaN</td>\n",
              "      <td>Excel/Python/Matlab/R/machine learning/anglais</td>\n",
              "      <td>Phd</td>\n",
              "      <td>0.5</td>\n",
              "      <td>Lyon</td>\n",
              "      <td>Debutant</td>\n",
              "      <td>Data scientist</td>\n",
              "    </tr>\n",
              "    <tr>\n",
              "      <th>9087</th>\n",
              "      <td>Klein Hersh International</td>\n",
              "      <td>NaN</td>\n",
              "      <td>Hadoop/Hive/Vertica/Tableau</td>\n",
              "      <td>No diploma</td>\n",
              "      <td>3.5</td>\n",
              "      <td>Paris</td>\n",
              "      <td>Confirme</td>\n",
              "      <td>Data architecte</td>\n",
              "    </tr>\n",
              "    <tr>\n",
              "      <th>9427</th>\n",
              "      <td>McKinsey &amp; Company</td>\n",
              "      <td>NaN</td>\n",
              "      <td>Python/R/machine learning/Excel/VBA/C++</td>\n",
              "      <td>Master</td>\n",
              "      <td>1.0</td>\n",
              "      <td>Marseille</td>\n",
              "      <td>Debutant</td>\n",
              "      <td>Data scientist</td>\n",
              "    </tr>\n",
              "    <tr>\n",
              "      <th>9490</th>\n",
              "      <td>Pearson</td>\n",
              "      <td>NaN</td>\n",
              "      <td>R/Python/Spark/Pycharm/SAS/SQL</td>\n",
              "      <td>Master</td>\n",
              "      <td>4.0</td>\n",
              "      <td>Marseille</td>\n",
              "      <td>Confirme</td>\n",
              "      <td>Data scientist</td>\n",
              "    </tr>\n",
              "  </tbody>\n",
              "</table>\n",
              "</div>"
            ],
            "text/plain": [
              "                      Entreprise Metier  ... Exp_label    Predicted_Metiers\n",
              "346                       Jacobs    NaN  ...  Confirme        Data engineer\n",
              "2058              Ball Aerospace    NaN  ...    Expert       Data scientist\n",
              "2670                  eHire, LLC    NaN  ...  Debutant       Data scientist\n",
              "2899       Norfolk Southern Corp    NaN  ...  Debutant       Data scientist\n",
              "3346       J.E. Ranta Associates    NaN  ...    Avance      Data architecte\n",
              "4248                        KPMG    NaN  ...  Debutant       Data scientist\n",
              "4290         Pandora Media, Inc.    NaN  ...  Debutant       Data scientist\n",
              "4292    Partners HealthCare(PHS)    NaN  ...    Avance  Lead data scientist\n",
              "5425           Ashton Lane Group    NaN  ...  Confirme        Data engineer\n",
              "5593     Lighthouse Lab Services    NaN  ...  Confirme  Lead data scientist\n",
              "5712              Ball Aerospace    NaN  ...  Confirme      Data architecte\n",
              "6024                      Leidos    NaN  ...  Debutant        Data engineer\n",
              "6625              Ball Aerospace    NaN  ...  Debutant      Data architecte\n",
              "7091                        KPMG    NaN  ...  Debutant       Data scientist\n",
              "7228  Environmental Defense Fund    NaN  ...  Confirme        Data engineer\n",
              "7330                      Turner    NaN  ...  Debutant       Data scientist\n",
              "9087   Klein Hersh International    NaN  ...  Confirme      Data architecte\n",
              "9427          McKinsey & Company    NaN  ...  Debutant       Data scientist\n",
              "9490                     Pearson    NaN  ...  Confirme       Data scientist\n",
              "\n",
              "[19 rows x 8 columns]"
            ]
          },
          "metadata": {
            "tags": []
          },
          "execution_count": 113
        }
      ]
    },
    {
      "cell_type": "code",
      "metadata": {
        "id": "K4thDkU-_Hr0"
      },
      "source": [
        ""
      ],
      "execution_count": 113,
      "outputs": []
    }
  ]
}